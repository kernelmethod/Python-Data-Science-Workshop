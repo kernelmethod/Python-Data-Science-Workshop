{
 "cells": [
  {
   "cell_type": "markdown",
   "metadata": {},
   "source": [
    "# 1. Introduction to Data Science in Python\n",
    "![LISA logo](https://raw.githubusercontent.com/wshand/Python-Data-Science-Workshop/master/assets/LISA_logo_medium.jpg)\n",
    "\n",
    "This notebook helps introduce some of the most basic tools that are commonly used for doing data science and statistics in Python.\n",
    "\n",
    "# Table of contents\n",
    "* [Introduction](#introduction)\n",
    "* [Jupyter Notebook](#Jupyter-Notebook)\n",
    "* [pandas](#pandas)\n",
    "* [NumPy](#Introduction-to-NumPy)\n",
    "* [Data visualization with matplotlib](#plotting)\n",
    "* [Linear regression with Scikit-learn and statsmodels](#Linear-regression-with-scikit-learn-and-statsmodels)\n",
    "* [Additional references](#additional-references)\n",
    "\n",
    "## Note: you will need to run the following code cell every time you restart this notebook\n",
    "If this is your first time using Jupyter, click the block of code below and either press the <i class=\"fa-step-forward fa\"></i><span class=\"toolbar-btn-label\">Run</span></div> button or press `Shift + Enter` on your keyboard."
   ]
  },
  {
   "cell_type": "code",
   "execution_count": null,
   "metadata": {},
   "outputs": [],
   "source": [
    "import pandas               as pd\n",
    "import matplotlib.pyplot    as plt\n",
    "import numpy                as np\n",
    "import statsmodels.api      as sm\n",
    "import seaborn              as sns\n",
    "from   sklearn.linear_model import LinearRegression\n",
    "\n",
    "from IPython.display import display\n",
    "\n",
    "iris = sns.load_dataset('iris')"
   ]
  },
  {
   "cell_type": "markdown",
   "metadata": {
    "tags": [
     "jupyter-notebook"
    ]
   },
   "source": [
    "# Jupyter Notebook <a id=\"Jupyter-Notebook\"></a>\n",
    "[Jupyter Notebook](https://jupyter.org/) is an interactive tool for running code and visualizing data. Each notebook consists of a series of _code cells_ and _Markdown cells_.\n",
    "\n",
    "* Code cells allow you to run code in a number of languages. Behind the scenes, Jupyter runs a \"kernel\" that processes the code whenever you execute a cell. Since this is a Python notebook, Jupyter is running the [IPython](https://ipython.org/) kernel. However, kernels also exist for Julia, R, and many other languages.\n",
    "* Markdown cells display text using the [Markdown language](https://jupyter-notebook.readthedocs.io/en/stable/examples/Notebook/Working%20With%20Markdown%20Cells.html). In addition to displaying text, you can write equations in these cells using $\\LaTeX$.\n",
    "\n",
    "To run code, click a code cell (like the one below) and do one of the following:\n",
    "* Press `Shift + Enter` on your keyboard\n",
    "* On the toolbar at the top of this notebook, press the <i class=\"fa-step-forward fa\"></i><span class=\"toolbar-btn-label\">Run</span> button."
   ]
  },
  {
   "cell_type": "code",
   "execution_count": null,
   "metadata": {
    "tags": [
     "jupyter-notebook"
    ]
   },
   "outputs": [],
   "source": [
    "print(\"Hello, world!\")"
   ]
  },
  {
   "cell_type": "markdown",
   "metadata": {
    "tags": [
     "jupyter-notebook"
    ]
   },
   "source": [
    "You can render a markdown cell in the same way. Double click the text below, and try putting in some of the following items:\n",
    "\n",
    "    # This is a large heading!\n",
    "    ## This is a smaller heading!\n",
    "    ### This is an even smaller heading!\n",
    "    Here is some code: `x = y + z`\n",
    "    And here is an equation: $x = y + z$"
   ]
  },
  {
   "cell_type": "markdown",
   "metadata": {
    "tags": [
     "jupyter-notebook"
    ]
   },
   "source": [
    "\n",
    "\n",
    "## *Double-click this text!*\n",
    "\n"
   ]
  },
  {
   "cell_type": "markdown",
   "metadata": {},
   "source": [
    "### Cell magic\n",
    "The IPython kernel provides some useful tools for programmers, including\n",
    "\n",
    "* [Magic commands](https://ipython.readthedocs.io/en/stable/interactive/magics.html), which allow you to do things like look up documentation and past commands that you've run, and\n",
    "* [Building graphical user interfaces (GUIs)](https://ipython.org/ipython-doc/stable/interactive/reference.html#gui-event-loop-support) to make it easier to interact with your code.\n",
    "\n",
    "Here's an example of a useful magic command. `?` will look up the documentation for a library, class, or function to help you figure out how to use it. For instance, if I want to learn about [pandas DataFrames](https://pandas.pydata.org/pandas-docs/stable/reference/api/pandas.DataFrame.html), I can run the following:"
   ]
  },
  {
   "cell_type": "code",
   "execution_count": null,
   "metadata": {},
   "outputs": [],
   "source": [
    "?pd.DataFrame"
   ]
  },
  {
   "cell_type": "markdown",
   "metadata": {},
   "source": [
    "If you want to see all the magic functions that IPython makes available to you, `%quickref` can give you a high-level overview."
   ]
  },
  {
   "cell_type": "code",
   "execution_count": null,
   "metadata": {},
   "outputs": [],
   "source": [
    "%quickref"
   ]
  },
  {
   "cell_type": "markdown",
   "metadata": {
    "tags": [
     "jupyter-notebook"
    ]
   },
   "source": [
    "### Widgets\n",
    "IPython and Jupyter Notebook also makes it easy to build [widgets](https://ipywidgets.readthedocs.io/en/latest/index.html), which give you a richer interface with which to interact with the notebook. Try running the code cell below. This code creates two plots, and displays them in adjacent tabs."
   ]
  },
  {
   "cell_type": "code",
   "execution_count": null,
   "metadata": {
    "tags": [
     "jupyter-notebook"
    ]
   },
   "outputs": [],
   "source": [
    "%matplotlib inline\n",
    "\n",
    "import matplotlib.pyplot as plt\n",
    "import ipywidgets as widgets\n",
    "from scipy.stats import norm, linregress\n",
    "\n",
    "out = [widgets.Output(), widgets.Output()]\n",
    "tabs = widgets.Tab(children=[out[0], out[1]])\n",
    "tabs.set_title(0, 'Linear regression')\n",
    "tabs.set_title(1, 'Normal distribution')\n",
    "\n",
    "with out[0]:\n",
    "    # Fit line to some random data\n",
    "    x = np.random.uniform(size=30)\n",
    "    y = x + np.random.normal(scale=0.1, size=30)\n",
    "    slope, intercept, _, _, _ = linregress(x,y)\n",
    "    u = np.linspace(0, 1)\n",
    "    \n",
    "    # Plot\n",
    "    fig1, axes1 = plt.subplots()\n",
    "    axes1.scatter(x, y)\n",
    "    axes1.plot(u, slope * u + intercept, 'k')\n",
    "    plt.show(fig1)\n",
    "\n",
    "with out[1]:\n",
    "    # Plot the probability distribution function (pdf) of the\n",
    "    # standard normal distribution.\n",
    "    x = np.linspace(-3.5, 3.5, num=100)\n",
    "    p = norm.pdf(x)\n",
    "    \n",
    "    # Plot\n",
    "    fig2, axes2 = plt.subplots()\n",
    "    axes2.plot(x, p)\n",
    "    plt.show(fig2)\n",
    "\n",
    "display(tabs)"
   ]
  },
  {
   "cell_type": "markdown",
   "metadata": {
    "tags": [
     "jupyter-notebook"
    ]
   },
   "source": [
    "You can create much richer and more complex interfaces that include buttons, sliders, progress bars, and more with Jupyter's ipywidgets library ([docs](https://ipywidgets.readthedocs.io/en/latest/index.html))."
   ]
  },
  {
   "cell_type": "markdown",
   "metadata": {
    "tags": [
     "pandas"
    ]
   },
   "source": [
    "# pandas <a id=\"pandas\"></a>\n",
    "[pandas](https://pandas.pydata.org/) is a Python library that provides useful data structures and tools for analyzing data.\n",
    "\n",
    "The fundamental type of the pandas library is the `DataFrame`. In the following code, we load the [iris flower dataset](https://en.wikipedia.org/wiki/Iris_flower_data_set) using the [seaborn library](https://seaborn.pydata.org/). By default, this dataset is stored in a pandas `DataFrame`."
   ]
  },
  {
   "cell_type": "code",
   "execution_count": null,
   "metadata": {
    "tags": [
     "pandas"
    ]
   },
   "outputs": [],
   "source": [
    "import pandas as pd\n",
    "import seaborn as sns\n",
    "\n",
    "iris = sns.load_dataset('iris')\n",
    "\n",
    "# `iris` is stored as a pandas DataFrame\n",
    "print('Type of \"iris\":', type(iris))\n",
    "\n",
    "# Show the first few entries in this DataFrame\n",
    "iris.head()"
   ]
  },
  {
   "cell_type": "markdown",
   "metadata": {
    "tags": [
     "pandas"
    ]
   },
   "source": [
    "Let's get some information about the iris dataset. Let's try to do the following:\n",
    "\n",
    "1. Find out how many columns there are in the `DataFrame` object, and what kinds of data are in each column\n",
    "2. Calculate the average petal length\n",
    "3. Determine what species of flowers are in the dataset\n",
    "4. Get an overall summary of the dataset"
   ]
  },
  {
   "cell_type": "code",
   "execution_count": null,
   "metadata": {
    "tags": [
     "pandas"
    ]
   },
   "outputs": [],
   "source": [
    "# 1. Column labels, and types of data in each column\n",
    "iris.dtypes"
   ]
  },
  {
   "cell_type": "code",
   "execution_count": null,
   "metadata": {
    "tags": [
     "pandas"
    ]
   },
   "outputs": [],
   "source": [
    "# 2. Calculate the average petal length\n",
    "iris['petal_length'].mean()"
   ]
  },
  {
   "cell_type": "code",
   "execution_count": null,
   "metadata": {
    "tags": [
     "pandas"
    ]
   },
   "outputs": [],
   "source": [
    "# 3. Determine which iris species are in the dataset\n",
    "iris['species'].unique()"
   ]
  },
  {
   "cell_type": "code",
   "execution_count": null,
   "metadata": {
    "tags": [
     "pandas"
    ]
   },
   "outputs": [],
   "source": [
    "# 4. Summary of the data\n",
    "iris.describe()"
   ]
  },
  {
   "cell_type": "markdown",
   "metadata": {},
   "source": [
    "Sometimes we need to extract certain rows or columns of a DataFrame. For instance, in the following code we store each species of flower in its own variable:"
   ]
  },
  {
   "cell_type": "code",
   "execution_count": null,
   "metadata": {
    "tags": [
     "pandas"
    ]
   },
   "outputs": [],
   "source": [
    "\"\"\"\n",
    "IPython.display is a convenience function that works in Jupyter Notebook\n",
    "(or, more generally, any IPython-based application) that will show\n",
    "objects in a nicer way than using print(). We'll use it in this notebook\n",
    "to show some pandas DataFrames.\n",
    "\"\"\"\n",
    "from IPython.display import display\n",
    "\n",
    "\"\"\"\n",
    "Create a DataFrame for each species of flower. I've provided two\n",
    "methods for creating these DataFrames below; pick whichever you\n",
    "prefer as they are equivalent.\n",
    "\"\"\"\n",
    "# Method 1: \"query\" function\n",
    "setosa     = iris.query('species == \"setosa\"')\n",
    "versicolor = iris.query('species == \"versicolor\"')\n",
    "\n",
    "# Method 2: index into the DataFrame\n",
    "virginica = iris[iris['species'] == 'virginica']\n",
    "\n",
    "\"\"\"\n",
    "Show the first few entries of the DataFrame corresponding to each species\n",
    "\"\"\"\n",
    "print('Setosa data:')\n",
    "display(setosa.head())\n",
    "\n",
    "print('Versicolor data:')\n",
    "display(versicolor.head())\n",
    "\n",
    "print('Virginica data:')\n",
    "display(virginica.head())"
   ]
  },
  {
   "cell_type": "markdown",
   "metadata": {},
   "source": [
    "To extract a column, we can either use `iris[column_name]` or `iris.iloc[:,column_index]`."
   ]
  },
  {
   "cell_type": "code",
   "execution_count": null,
   "metadata": {},
   "outputs": [],
   "source": [
    "\"\"\"\n",
    "Get the first column.\n",
    "\n",
    "Note: whenever we extract a single column of a pandas DataFrame,\n",
    "we get back a pandas Series object. To turn it back into a DataFrame,\n",
    "we add the line `first_column = pd.DataFrame(first_column)`.\n",
    "\"\"\"\n",
    "first_column = iris.iloc[:,0]\n",
    "first_column = pd.DataFrame(first_column)\n",
    "\n",
    "print('First column:')\n",
    "display(first_column.head())\n",
    "\n",
    "\"\"\"\n",
    "Get the first through third columns\n",
    "\"\"\"\n",
    "first_through_third_columns = iris.iloc[:,0:3]\n",
    "\n",
    "print('First through third columns:')\n",
    "display(first_through_third_columns.head())\n",
    "\n",
    "\"\"\"\n",
    "Get the 'species' column.\n",
    "\"\"\"\n",
    "species = iris['species']\n",
    "species = pd.DataFrame(species)\n",
    "\n",
    "print('Species column:')\n",
    "display(species.head())\n",
    "\n",
    "\"\"\"\n",
    "Get all columns *except* the species column\n",
    "\"\"\"\n",
    "all_but_species = iris.iloc[:, iris.columns != 'species']\n",
    "\n",
    "print(\"All columns *except* species:\")\n",
    "display(all_but_species.head())"
   ]
  },
  {
   "cell_type": "markdown",
   "metadata": {},
   "source": [
    "If you want to create your own pandas `DataFrame`, you have to specify the names of the columns and the items in the rows of the `DataFrame`."
   ]
  },
  {
   "cell_type": "code",
   "execution_count": null,
   "metadata": {},
   "outputs": [],
   "source": [
    "column_labels = ['A', 'B']\n",
    "\n",
    "column_entries = [\n",
    "    [1, 2],\n",
    "    [4, 5],\n",
    "    [7, 8]\n",
    "]\n",
    "\n",
    "pd.DataFrame(column_entries, columns=column_labels)"
   ]
  },
  {
   "cell_type": "markdown",
   "metadata": {},
   "source": [
    "## Introduction to NumPy\n",
    "[NumPy](https://www.numpy.org/) is another Python package providing useful data structures and mathematical functions. NumPy's fundamental data type is the array, `numpy.ndarray`, which is like a stripped-down version of a pandas `DataFrame`. However, the `numpy.ndarray` supports much faster operations, which makes it a lot more practical for scientific computing than, say, Python's list objects."
   ]
  },
  {
   "cell_type": "code",
   "execution_count": null,
   "metadata": {},
   "outputs": [],
   "source": [
    "import numpy as np\n",
    "\n",
    "# 1. Create an array with the numbers [1, 2, 3]\n",
    "x = np.array([1, 2, 3])\n",
    "\n",
    "# 2. Create a 2 x 2 matrix with [1, 2] in the first row and [3, 4]\n",
    "#    in the second row.\n",
    "x = np.array( [[1,2], [3,4]] )\n",
    "\n",
    "# 3. Create an array with the numbers 0, 1, ... , 9. Equivalent to\n",
    "#    calling np.array(range(10))\n",
    "x = np.arange(10)\n",
    "\n",
    "# 4. Create a 2 x 2 matrix with zeros in all entries\n",
    "x = np.zeros( (2,2) )\n",
    "\n",
    "# 5. Get the total number of items in the matrix, and the shape of\n",
    "#    the matrix.\n",
    "num_items    = x.size\n",
    "matrix_shape = x.shape"
   ]
  },
  {
   "cell_type": "markdown",
   "metadata": {},
   "source": [
    "Besides just providing data structures, though, NumPy provides many mathematical utilities as well."
   ]
  },
  {
   "cell_type": "code",
   "execution_count": null,
   "metadata": {},
   "outputs": [],
   "source": [
    "### Constants: π, e\n",
    "print('π      = %f' % np.pi)\n",
    "print('e      = %f' % np.e)\n",
    "print()\n",
    "\n",
    "### Simple functions: sine, cosine, e^x, log, ...\n",
    "print('sin(0) = %f' % np.sin(0))\n",
    "print('cos(0) = %f' % np.cos(0))\n",
    "print('e^1    = %f' % np.exp(1))\n",
    "print('ln(1)  = %f' % np.log(1))\n",
    "print()\n",
    "\n",
    "### Minimums, maximums, sums...\n",
    "x = np.array([1,2,3])\n",
    "print('Min of [1,2,3] = %d' % x.min())\n",
    "print('Max of [1,2,3] = %d' % x.max())\n",
    "print('Sum of [1,2,3] = %d' % x.sum())\n",
    "print()\n",
    "\n",
    "### Random numbers: uniform distribution, normal distribution, ...\n",
    "print('Random numbers:')\n",
    "print('Uniform([0,1]): %f' % np.random.uniform(0,1))\n",
    "print('Normal(0,1):    %f' % np.random.normal(loc=0, scale=1))\n",
    "print('Poisson(1):     %f' % np.random.poisson(1))"
   ]
  },
  {
   "cell_type": "markdown",
   "metadata": {},
   "source": [
    "NumPy is primarily used to do large-scale operations on arrays of numbers. Because it has C code running behind the scenes, it can do these computations extremely quickly -- much faster than you could do with regular Python code. Among other things, with NumPy you can\n",
    "\n",
    "* add a number to every element of an array;\n",
    "* multiply every element of an array by a number;\n",
    "* add or multiply two arrays together; or\n",
    "* calculate a matrix-vector or matrix-matrix product between arrays."
   ]
  },
  {
   "cell_type": "code",
   "execution_count": null,
   "metadata": {},
   "outputs": [],
   "source": [
    "x = np.array([1,2,3])\n",
    "y = np.array([4,5,6])\n",
    "\n",
    "print('1 + [1,2,3] =', 1 + x)\n",
    "print('3 * [1,2,3] =', 3 * x)\n",
    "print('[1,2,3] * [4,5,6] =', x * y)\n",
    "print('[1,2,3] + [4,5,6] =', x + y)\n",
    "print('Dot product of [1,2,3] and [4,5,6] =', x.dot(y))"
   ]
  },
  {
   "cell_type": "markdown",
   "metadata": {},
   "source": [
    "## Visualizing data with matplotlib <a id=\"plotting\"></a>\n",
    "Python has a *massive* number of libraries that can be used for data visualization; [this article](https://www.anaconda.com/blog/developer-blog/python-data-visualization-2018-why-so-many-libraries/) gives a high-level overview of many of them. Each of them has their own advantages:\n",
    "\n",
    "- [matplotlib](https://matplotlib.org/) is beginner-friendly and flexible.\n",
    "- [seaborn](https://seaborn.pydata.org/) works very well with pandas. For the most part, all you have to do is provide seaborn with a pandas `DataFrame` object, and tell it which columns you want to use for your axes.\n",
    "- [plotly](https://plot.ly/python/) focuses on creating highly interactive plots. You can use it with [Dash](https://dash.plot.ly/) to easily integrate plots into web applications.\n",
    "\n",
    "In this workshop, we'll cover matplotlib, because it's easy to learn. It's also very widely used -- if you ever look up tutorials for learning other Python data science libraries, chances are that they'll be using matplotlib to visualize data."
   ]
  },
  {
   "cell_type": "code",
   "execution_count": null,
   "metadata": {},
   "outputs": [],
   "source": [
    "import matplotlib.pyplot as plt"
   ]
  },
  {
   "cell_type": "markdown",
   "metadata": {},
   "source": [
    "Creating a scatter plot with matplotlib is fairly straightforward: just call `plt.scatter` with your $x$ data and your $y$ data."
   ]
  },
  {
   "cell_type": "code",
   "execution_count": null,
   "metadata": {},
   "outputs": [],
   "source": [
    "setosa = iris.query('species == \"setosa\"')\n",
    "x = setosa['sepal_length']\n",
    "y = setosa['sepal_width']\n",
    "plt.scatter(x,y)\n",
    "plt.show()"
   ]
  },
  {
   "cell_type": "markdown",
   "metadata": {},
   "source": [
    "Use `plt.xlabel` and `plt.ylabel` to label the $x$- and $y$-axes. Add the `fontdict` keyword argument to change font parameters."
   ]
  },
  {
   "cell_type": "code",
   "execution_count": null,
   "metadata": {},
   "outputs": [],
   "source": [
    "plt.xlabel(\"sepal_length\", fontdict={\"fontsize\": 16})\n",
    "plt.ylabel(\"sepal_width\", fontdict={\"fontsize\": 16})\n",
    "plt.scatter(x,y)\n",
    "plt.show()"
   ]
  },
  {
   "cell_type": "markdown",
   "metadata": {},
   "source": [
    "You can specify the plot size by creating a `Figure` object with `plt.figure()`."
   ]
  },
  {
   "cell_type": "code",
   "execution_count": null,
   "metadata": {},
   "outputs": [],
   "source": [
    "fig = plt.figure(figsize=(10,10))\n",
    "plt.scatter(x,y)\n",
    "plt.xlabel(\"sepal_length\", fontdict={\"fontsize\": 24})\n",
    "plt.ylabel(\"sepal_width\", fontdict={\"fontsize\": 24})\n",
    "plt.show()"
   ]
  },
  {
   "cell_type": "markdown",
   "metadata": {},
   "source": [
    "If you want to create multiple plots at once, you can use `plt.subplots`. In the example below, we create a $2\\times 2$ panel of plots, each with a slightly different styling."
   ]
  },
  {
   "cell_type": "code",
   "execution_count": null,
   "metadata": {},
   "outputs": [],
   "source": [
    "fig, axes = plt.subplots(2,2,figsize=(12, 12))\n",
    "axes[0,0].set_title(\"Original scatter plot\")\n",
    "axes[0,0].scatter(x,y)\n",
    "\n",
    "axes[0,1].set_title(\"Scatter plot with red markers\")\n",
    "axes[0,1].scatter(x,y,color=\"red\")\n",
    "\n",
    "axes[1,0].set_title(\"Scatter plot with X markers\")\n",
    "axes[1,0].scatter(x,y,marker=\"x\")\n",
    "\n",
    "axes[1,1].set_title(\"Scatter plot with red X markers\")\n",
    "axes[1,1].scatter(x,y,marker=\"x\",color=\"red\")\n",
    "plt.show()"
   ]
  },
  {
   "cell_type": "markdown",
   "metadata": {},
   "source": [
    "If you want to plot a line or curve instead of a scatter plot, call `plt.plot()` instead of `plt.scatter()`."
   ]
  },
  {
   "cell_type": "code",
   "execution_count": null,
   "metadata": {},
   "outputs": [],
   "source": [
    "# Plot a sine curve\n",
    "# x is a numpy array of 100 equispaced numbers in the range [0,2π]\n",
    "fig = plt.figure(figsize=(10,6))\n",
    "x = np.linspace(0, 2*np.pi, num=50)\n",
    "y = np.sin(x)\n",
    "plt.plot(x,y)\n",
    "plt.show()"
   ]
  },
  {
   "cell_type": "markdown",
   "metadata": {},
   "source": [
    "You can place both a scatter plot and a continuous curve on the same axes by calling both `plot.scatter()` and `plt.plot()`."
   ]
  },
  {
   "cell_type": "code",
   "execution_count": null,
   "metadata": {},
   "outputs": [],
   "source": [
    "fig = plt.figure(figsize=(10,6))\n",
    "x = np.linspace(0, 2*np.pi, num=50)\n",
    "y = np.sin(x)\n",
    "plt.plot(x,y)\n",
    "plt.scatter(x,y)\n",
    "plt.show()"
   ]
  },
  {
   "cell_type": "markdown",
   "metadata": {},
   "source": [
    "Whenever you call `plt.plot(x,y)`, matplotlib creates small line between every consecutive $(x,y)$ pair. This means that you need to make sure that your $x$ and $y$ data are sorted in the order you want them to be in before you call `plt.plot(x,y)`.\n",
    "\n",
    "The code below generates two plots to demonstrate this idea. The plot on the left shows a regular sine curve. The plot on the right uses exactly the same data, except that the $x$ data has been randomly shuffled so that it is no longer in ascending order."
   ]
  },
  {
   "cell_type": "code",
   "execution_count": null,
   "metadata": {},
   "outputs": [],
   "source": [
    "x = np.linspace(0, 2*np.pi, num=50)\n",
    "\n",
    "fig, axes = plt.subplots(1, 2, figsize=(12,6))\n",
    "axes[0].plot(x, np.sin(x))\n",
    "\n",
    "np.random.shuffle(x)\n",
    "axes[1].plot(x, np.sin(x))\n",
    "\n",
    "plt.show()"
   ]
  },
  {
   "cell_type": "markdown",
   "metadata": {},
   "source": [
    "**Exercise**: create three scatter plots of petal length vs petal width, one for each of the three iris species. You can do this either by creating three subplots, or by putting all three scatter plots on the same axes."
   ]
  },
  {
   "cell_type": "code",
   "execution_count": null,
   "metadata": {},
   "outputs": [],
   "source": [
    "# Put your code here!\n",
    "# Here's a little snippet to help you get started (feel free\n",
    "# to remove it, if you want)\n",
    "setosa = iris.query('species == \"setosa\"')\n",
    "versicolor = iris.query('species == \"versicolor\"')\n",
    "virginica = iris.query('species == \"virginica\"')"
   ]
  },
  {
   "cell_type": "markdown",
   "metadata": {},
   "source": [
    "# Linear regression with scikit-learn and statsmodels\n",
    "In the last section of the notebook, we're going to use linear regression to try and predict the petal length of each iris from its sepal length, sepal width, and petal width.\n",
    "\n",
    "Before we even start using linear regression, let's look at how each of these variables are related to one another. Below we plot each pair of variables against the others, with the color of the points reflecting which species we're looking at. On the diagonal are box-and-whisker plots that tell us a little about how each of the variables is distributed."
   ]
  },
  {
   "cell_type": "code",
   "execution_count": null,
   "metadata": {},
   "outputs": [],
   "source": [
    "sns.pairplot(iris, hue=\"species\")"
   ]
  },
  {
   "cell_type": "markdown",
   "metadata": {},
   "source": [
    "The most important conclusion we can draw from these plots is that each pair of variables is roughly linearly related. As a result, we can expect that we should be able to accurately predict petal length from the other three variables using linear regression.\n",
    "\n",
    "If you just want to do a basic regression and get the coefficients for each variable, you can use `LinearRegression` from the scikit-learn library:"
   ]
  },
  {
   "cell_type": "code",
   "execution_count": null,
   "metadata": {},
   "outputs": [],
   "source": [
    "from sklearn.linear_model import LinearRegression\n",
    "\n",
    "\"\"\"\n",
    "Get all of the irises of the species \"setosa\" and place them in\n",
    "a pandas DataFrame called `data`.\n",
    "\n",
    "Also try with 'setosa' replaced by 'versicolor' and 'virginica'\n",
    "\"\"\"\n",
    "data = iris[iris['species'] == 'setosa']\n",
    "    \n",
    "\"\"\"\n",
    "Split the data into two pieces: the independent variables\n",
    "(sepal_length, sepal_width, and petal_width), and the dependent\n",
    "variable (petal_length).\n",
    "\"\"\"\n",
    "x = data[['sepal_length','sepal_width','petal_width']]\n",
    "y = data['petal_length']\n",
    "\n",
    "\"\"\"\n",
    "Create a scikit-learn LinearRegression object which we will\n",
    "fit to the data.\n",
    "\"\"\"\n",
    "lm = LinearRegression()\n",
    "lm.fit(x,y)\n",
    "\n",
    "for (coef,col) in zip(lm.coef_, x.columns):\n",
    "    print(\"%-30s %+.3f\" % (\"Coefficient for \" + col + \":\", coef))"
   ]
  },
  {
   "cell_type": "markdown",
   "metadata": {},
   "source": [
    "However, when we run a linear regression we also want to find out other things about our linear model. For instance, we might want to get a confidence interval for each coefficient in the model. The [StatsModels library](https://www.statsmodels.org/stable/index.html) gives us this functionality with `statsmodel.api.sm`:"
   ]
  },
  {
   "cell_type": "code",
   "execution_count": null,
   "metadata": {},
   "outputs": [],
   "source": [
    "import statsmodels.api as sm\n",
    "\n",
    "# Also try with 'setosa' replaced by 'versicolor' and 'virginica'\n",
    "data = iris[iris['species'] == 'setosa']\n",
    "\n",
    "x = data[['sepal_length','sepal_width','petal_width']]\n",
    "y = data['petal_length']\n",
    "    \n",
    "\"\"\"\n",
    "Add y-intercept term to our linear model\n",
    "\"\"\"\n",
    "x = sm.add_constant(x)\n",
    "    \n",
    "\"\"\"\n",
    "Perform linear regression\n",
    "\"\"\"\n",
    "lm      = sm.OLS(y,x)\n",
    "results = lm.fit()\n",
    "\n",
    "\"\"\"\n",
    "Print the results\n",
    "\"\"\"\n",
    "print(results.summary())"
   ]
  },
  {
   "cell_type": "markdown",
   "metadata": {},
   "source": [
    "You can also use R-style formulas to specify what variables you want to use to perform linear regression. "
   ]
  },
  {
   "cell_type": "code",
   "execution_count": null,
   "metadata": {},
   "outputs": [],
   "source": [
    "import statsmodels.formula.api as smf\n",
    "\n",
    "df = iris[iris['species'] == 'setosa']\n",
    "\n",
    "# Predict petal length from sepal_width, sepal_length, and petal_width\n",
    "model = smf.ols(formula='petal_length ~ sepal_width + sepal_length + petal_width',\n",
    "                data=df)\n",
    "results = model.fit()\n",
    "\n",
    "print(\"Results (petal_length ~ sepal_width + sepal_length + petal_width)\")\n",
    "print(results.summary())\n",
    "print('-' * 80)\n",
    "\n",
    "# Predict petal length from just sepal_length and petal_width\n",
    "model = smf.ols(formula='petal_length ~ sepal_length + petal_width',\n",
    "                data=df)\n",
    "results = model.fit()\n",
    "\n",
    "print(\"Results (petal_length ~ sepal_length + petal_width)\")\n",
    "print(results.summary())"
   ]
  },
  {
   "cell_type": "markdown",
   "metadata": {},
   "source": [
    "## Additional References <a id=\"additional-references\"></a>\n",
    "\n",
    "* O'Reilly provides a couple of good books that go in-depth about these tools and more:\n",
    "  * [Python Data Science Handbook](http://shop.oreilly.com/product/0636920034919.do)\n",
    "  * [Python for Data Analysis](http://shop.oreilly.com/product/0636920023784.do) -- this book was published in 2012 and may be slightly dated. However, the author provides some Jupyter Notebooks for free in [this repository](https://github.com/wesm/pydata-book) that you may find helpful.\n",
    "* Check out the full documentation for Jupyter on the [Project Jupyter site](https://jupyter.org/documentation).\n",
    "* Plotting tools:\n",
    "  * Matplotlib\n",
    "    * [Documentation](https://matplotlib.org/contents.html)\n",
    "    * [Tutorials](https://matplotlib.org/tutorials/index.html)\n",
    "  * Seaborn\n",
    "    * [Documentation](https://seaborn.pydata.org/api.html)\n",
    "    * [Introduction](https://seaborn.pydata.org/introduction.html)\n",
    "  * Plotly\n",
    "    * [Documentation](https://plot.ly/python/reference/)\n",
    "    * [Examples](https://plot.ly/python/)\n",
    "* [Statsmodels documentation](https://www.statsmodels.org/stable/index.html)"
   ]
  }
 ],
 "metadata": {
  "kernelspec": {
   "display_name": "Python 3",
   "language": "python",
   "name": "python3"
  },
  "language_info": {
   "codemirror_mode": {
    "name": "ipython",
    "version": 3
   },
   "file_extension": ".py",
   "mimetype": "text/x-python",
   "name": "python",
   "nbconvert_exporter": "python",
   "pygments_lexer": "ipython3",
   "version": "3.7.3"
  }
 },
 "nbformat": 4,
 "nbformat_minor": 2
}
